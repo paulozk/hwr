{
 "cells": [
  {
   "cell_type": "code",
   "execution_count": 2,
   "metadata": {},
   "outputs": [],
   "source": [
    "import cv2\n",
    "import matplotlib.pyplot as plt\n",
    "import matplotlib.image as mpimg\n",
    "import numpy as np\n",
    "import os"
   ]
  },
  {
   "cell_type": "code",
   "execution_count": 4,
   "metadata": {},
   "outputs": [],
   "source": [
    "base_path = 'E:/Github/HandwritingRec/Preprocessing/monkbrill_171005'\n",
    "target_path = 'E:/Github/HandwritingRec/Preprocessing/monkbrill_jpg'\n",
    "os.chdir(base_path)\n",
    "all_subdirs = [d for d in os.listdir('.') if os.path.isdir(d)]\n",
    "for dirs in all_subdirs:\n",
    "    dir = os.path.join(base_path, dirs)\n",
    "    os.chdir(dir)\n",
    "    target_folder = os.path.join(target_path, dirs)\n",
    "    os.makedirs(target_folder)\n",
    "    for (file) in os.listdir(dir):\n",
    "        if file != 'PaxHeader':\n",
    "#             print(dir, file)\n",
    "            final_path = os.path.join(dir, file)\n",
    "            \n",
    "            save_path = os.path.join(target_folder, file)\n",
    "#             print(final_path)\n",
    "            image = cv2.imread(final_path, cv2.IMREAD_GRAYSCALE)\n",
    "            image = 255 - image\n",
    "            cv2.imwrite(save_path + '.jpg', image)"
   ]
  },
  {
   "cell_type": "code",
   "execution_count": null,
   "metadata": {},
   "outputs": [],
   "source": []
  }
 ],
 "metadata": {
  "kernelspec": {
   "display_name": "Python 3",
   "language": "python",
   "name": "python3"
  }
 },
 "nbformat": 4,
 "nbformat_minor": 2
}
