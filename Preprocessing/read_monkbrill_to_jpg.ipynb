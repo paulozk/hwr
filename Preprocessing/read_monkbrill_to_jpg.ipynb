{
 "cells": [
  {
   "cell_type": "code",
   "execution_count": 5,
   "metadata": {},
   "outputs": [],
   "source": [
    "import cv2\n",
    "import matplotlib.pyplot as plt\n",
    "import matplotlib.image as mpimg\n",
    "import numpy as np\n",
    "import os"
   ]
  },
  {
   "cell_type": "code",
   "execution_count": 28,
   "metadata": {},
   "outputs": [],
   "source": [
    "base_path = 'E:/Github/HandwritingRec/Preprocessing/monkbrill_171005'\n",
    "os.chdir(base_path)\n",
    "all_subdirs = [d for d in os.listdir('.') if os.path.isdir(d)]\n",
    "for dirs in all_subdirs:\n",
    "    dir = os.path.join(base_path, dirs)\n",
    "    os.chdir(dir)\n",
    "    target_folder = dir + '_jpg'\n",
    "    os.makedirs(target_folder)\n",
    "    for (file) in os.listdir(dir):\n",
    "        if file != 'PaxHeader':\n",
    "#             print(dir, file)\n",
    "            final_path = os.path.join(dir, file)\n",
    "            \n",
    "            save_path = os.path.join(target_folder, file)\n",
    "#             print(final_path)\n",
    "            image = cv2.imread(final_path, cv2.IMREAD_GRAYSCALE)\n",
    "            cv2.imwrite(save_path + '.jpg', image)"
   ]
  },
  {
   "cell_type": "code",
   "execution_count": null,
   "metadata": {},
   "outputs": [],
   "source": []
  },
  {
   "cell_type": "code",
   "execution_count": 13,
   "metadata": {},
   "outputs": [],
   "source": [
    "\n",
    "\n",
    "path = 'monkbrill_171005/Alef/navis-QIrug-Qumran_extr09_0001-line-008-y1=400-y2=515-zone-HUMAN-x=1650-y=0049-w=0035-h=0042-ybas=0'\n",
    "image = cv2.imread(path, cv2.IMREAD_GRAYSCALE)"
   ]
  },
  {
   "cell_type": "code",
   "execution_count": 15,
   "metadata": {},
   "outputs": [
    {
     "data": {
      "image/png": "[encoded data removed]",
      "text/plain": [
       "<matplotlib.figure.Figure at 0x249fb7626d8>"
      ]
     },
     "metadata": {},
     "output_type": "display_data"
    }
   ],
   "source": [
    "plt.figure(figsize = (500,10))\n",
    "plt.imshow(image, cmap='gray', aspect = 1)\n",
    "plt.show()"
   ]
  }
 ],
 "metadata": {
  "kernelspec": {
   "display_name": "Python 3",
   "language": "python",
   "name": "python3"
  },
  "language_info": {
   "codemirror_mode": {
    "name": "ipython",
    "version": 3
   },
   "file_extension": ".py",
   "mimetype": "text/x-python",
   "name": "python",
   "nbconvert_exporter": "python",
   "pygments_lexer": "ipython3",
   "version": "3.6.4"
  }
 },
 "nbformat": 4,
 "nbformat_minor": 2
}
