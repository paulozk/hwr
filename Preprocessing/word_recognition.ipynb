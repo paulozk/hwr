{
 "cells": [
  {
   "cell_type": "code",
   "execution_count": 1,
   "metadata": {},
   "outputs": [],
   "source": [
    "import cv2\n",
    "import numpy as np\n",
    "import matplotlib.pyplot as plt\n",
    "from recognize_word import *"
   ]
  },
  {
   "cell_type": "code",
   "execution_count": 21,
   "metadata": {},
   "outputs": [],
   "source": [
    "path = 'word-images/word4.png'\n",
    "word = cv2.imread(path, cv2.IMREAD_GRAYSCALE)"
   ]
  },
  {
   "cell_type": "code",
   "execution_count": 22,
   "metadata": {},
   "outputs": [],
   "source": [
    "kernel = np.ones((5,5),np.uint8)\n",
    "_, word = cv2.threshold(word,0,255,cv2.THRESH_BINARY+cv2.THRESH_OTSU)\n",
    "word = 255 - word\n",
    "#word = cv2.morphologyEx(word, cv2.MORPH_OPEN, kernel)\n",
    "#word = cv2.erode(word,kernel,iterations = 1)\n",
    "word = 255 - word"
   ]
  },
  {
   "cell_type": "code",
   "execution_count": 23,
   "metadata": {
    "scrolled": true
   },
   "outputs": [
    {
     "data": {
      "image/png": "[encoded data removed]",
      "text/plain": [
       "<matplotlib.figure.Figure at 0x1d3bd7f1c50>"
      ]
     },
     "metadata": {},
     "output_type": "display_data"
    }
   ],
   "source": [
    "plt.figure(figsize = (500,4))\n",
    "plt.imshow(word, cmap='gray', aspect = 1)\n",
    "plt.show()"
   ]
  },
  {
   "cell_type": "code",
   "execution_count": 24,
   "metadata": {
    "scrolled": true
   },
   "outputs": [
    {
     "name": "stdout",
     "output_type": "stream",
     "text": [
      "20 1 21\n",
      "2 21 26\n",
      "13 26 5\n",
      "4 words,  27  possible combinations\n",
      "Nun-medial_Bet_Taw\n",
      "Total: 0\n",
      "Zayin_Bet_Taw\n",
      "Total: 0\n",
      "He_Bet_Taw\n",
      "Total: 0\n",
      "Nun-medial_Tet_Taw\n",
      "Total: 0\n",
      "Zayin_Tet_Taw\n",
      "Total: 0\n",
      "He_Tet_Taw\n",
      "Total: 0\n",
      "Nun-medial_Zayin_Taw\n",
      "Total: 0\n",
      "Zayin_Zayin_Taw\n",
      "Total: 0\n",
      "He_Zayin_Taw\n",
      "Total: 0\n",
      "Nun-medial_Bet_Ayin\n",
      "Total: 0\n",
      "Zayin_Bet_Ayin\n",
      "Total: 0\n",
      "He_Bet_Ayin\n",
      "Total: 0\n",
      "Nun-medial_Tet_Ayin\n",
      "Total: 0\n",
      "Zayin_Tet_Ayin\n",
      "Total: 0\n",
      "He_Tet_Ayin\n",
      "Total: 0\n",
      "Nun-medial_Zayin_Ayin\n",
      "Total: 0\n",
      "Zayin_Zayin_Ayin\n",
      "Total: 0\n",
      "He_Zayin_Ayin\n",
      "Total: 0\n",
      "Nun-medial_Bet_Tet\n",
      "Total: 0\n",
      "Zayin_Bet_Tet\n",
      "Total: 0\n",
      "He_Bet_Tet\n",
      "Total: 0\n",
      "Nun-medial_Tet_Tet\n",
      "Total: 0\n",
      "Zayin_Tet_Tet\n",
      "Total: 0\n",
      "He_Tet_Tet\n",
      "Total: 0\n",
      "Nun-medial_Zayin_Tet\n",
      "Total: 0\n",
      "Zayin_Zayin_Tet\n",
      "Total: 0\n",
      "He_Zayin_Tet\n",
      "Total: 0\n",
      "The best matching word is: Nun-medial_Bet_Taw\n"
     ]
    }
   ],
   "source": [
    "recognition = recognize_word(word)\n",
    "print(\"The best matching word is:\", recognition)"
   ]
  },
  {
   "cell_type": "code",
   "execution_count": null,
   "metadata": {},
   "outputs": [],
   "source": []
  },
  {
   "cell_type": "code",
   "execution_count": null,
   "metadata": {},
   "outputs": [],
   "source": []
  },
  {
   "cell_type": "code",
   "execution_count": null,
   "metadata": {},
   "outputs": [],
   "source": []
  },
  {
   "cell_type": "code",
   "execution_count": null,
   "metadata": {},
   "outputs": [],
   "source": []
  },
  {
   "cell_type": "code",
   "execution_count": null,
   "metadata": {
    "scrolled": true
   },
   "outputs": [],
   "source": []
  },
  {
   "cell_type": "code",
   "execution_count": null,
   "metadata": {},
   "outputs": [],
   "source": []
  },
  {
   "cell_type": "code",
   "execution_count": null,
   "metadata": {},
   "outputs": [],
   "source": []
  },
  {
   "cell_type": "code",
   "execution_count": null,
   "metadata": {},
   "outputs": [],
   "source": []
  },
  {
   "cell_type": "code",
   "execution_count": null,
   "metadata": {},
   "outputs": [],
   "source": []
  },
  {
   "cell_type": "code",
   "execution_count": null,
   "metadata": {},
   "outputs": [],
   "source": []
  },
  {
   "cell_type": "code",
   "execution_count": null,
   "metadata": {},
   "outputs": [],
   "source": []
  },
  {
   "cell_type": "code",
   "execution_count": null,
   "metadata": {},
   "outputs": [],
   "source": []
  }
 ],
 "metadata": {
  "kernelspec": {
   "display_name": "Python 3",
   "language": "python",
   "name": "python3"
  },
  "language_info": {
   "codemirror_mode": {
    "name": "ipython",
    "version": 3
   },
   "file_extension": ".py",
   "mimetype": "text/x-python",
   "name": "python",
   "nbconvert_exporter": "python",
   "pygments_lexer": "ipython3",
   "version": "3.6.2"
  }
 },
 "nbformat": 4,
 "nbformat_minor": 2
}
