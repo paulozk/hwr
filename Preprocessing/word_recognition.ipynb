{
 "cells": [
  {
   "cell_type": "code",
   "execution_count": 34,
   "metadata": {},
   "outputs": [],
   "source": [
    "import cv2\n",
    "import numpy as np\n",
    "import matplotlib.pyplot as plt\n",
    "from recognize_character import *"
   ]
  },
  {
   "cell_type": "code",
   "execution_count": 35,
   "metadata": {},
   "outputs": [],
   "source": [
    "path = 'word-images/word2.png'\n",
    "word = cv2.imread(path, cv2.IMREAD_GRAYSCALE)"
   ]
  },
  {
   "cell_type": "code",
   "execution_count": 36,
   "metadata": {},
   "outputs": [],
   "source": [
    "kernel = np.ones((5,5),np.uint8)\n",
    "_, word = cv2.threshold(word,0,255,cv2.THRESH_BINARY+cv2.THRESH_OTSU)\n",
    "word = 255 - word\n",
    "#word = cv2.erode(word,kernel,iterations = 1)\n",
    "\n"
   ]
  },
  {
   "cell_type": "code",
   "execution_count": 37,
   "metadata": {},
   "outputs": [
    {
     "data": {
      "image/png": "[encoded data removed]",
      "text/plain": [
       "<matplotlib.figure.Figure at 0x1f5d403d6a0>"
      ]
     },
     "metadata": {},
     "output_type": "display_data"
    }
   ],
   "source": [
    "plt.figure(figsize = (500,4))\n",
    "plt.imshow(word, cmap='gray', aspect = 1)\n",
    "plt.show()"
   ]
  },
  {
   "cell_type": "code",
   "execution_count": null,
   "metadata": {},
   "outputs": [],
   "source": []
  },
  {
   "cell_type": "code",
   "execution_count": 38,
   "metadata": {},
   "outputs": [],
   "source": [
    "n_labels, labels, stats, centroids = cv2.connectedComponentsWithStats(word, 8, cv2.CV_32S)"
   ]
  },
  {
   "cell_type": "code",
   "execution_count": 39,
   "metadata": {},
   "outputs": [
    {
     "data": {
      "text/plain": [
       "16"
      ]
     },
     "execution_count": 39,
     "metadata": {},
     "output_type": "execute_result"
    }
   ],
   "source": [
    "n_labels"
   ]
  },
  {
   "cell_type": "code",
   "execution_count": 40,
   "metadata": {},
   "outputs": [
    {
     "data": {
      "text/plain": [
       "array([[    0,     0,   235,    85, 14126],\n",
       "       [    3,    24,    42,    61,  1295],\n",
       "       [   44,    23,    41,    44,   951],\n",
       "       [   86,    16,   108,    44,  2209],\n",
       "       [  182,     0,    41,    14,   225],\n",
       "       [  191,    47,    31,    38,   441],\n",
       "       [  199,    14,    10,    15,   108],\n",
       "       [  201,    59,     2,     4,     5],\n",
       "       [  205,    26,    30,    24,   330],\n",
       "       [  210,     8,    25,    18,   216],\n",
       "       [  211,     7,     6,     4,    13],\n",
       "       [  211,    15,     1,     2,     2],\n",
       "       [  211,    28,     1,     3,     3],\n",
       "       [  214,    11,     4,     3,     9],\n",
       "       [  215,    26,     2,     2,     3],\n",
       "       [  218,     0,    14,     9,    39]], dtype=int32)"
      ]
     },
     "execution_count": 40,
     "metadata": {},
     "output_type": "execute_result"
    }
   ],
   "source": [
    "stats = stats[stats[:,0].argsort()]\n",
    "stats"
   ]
  },
  {
   "cell_type": "code",
   "execution_count": 41,
   "metadata": {},
   "outputs": [],
   "source": [
    "idx = 1\n",
    "char = word[stats[idx][1]:stats[idx][1]+stats[idx][3], stats[idx][0]:stats[idx][0]+stats[idx][2]]\n",
    "ch_height, ch_width = char.shape\n",
    "#padding = np.zeros((char.shape[0], char.shape[1]))\n",
    "#print(padding.shape)\n",
    "#print(char.shape)\n",
    "#char = np.concatenate((padding,char), axis = 1)\n",
    "#char = np.concatenate((char,padding), axis = 1)\n",
    "#char = char.astype(np.uint8)"
   ]
  },
  {
   "cell_type": "code",
   "execution_count": 42,
   "metadata": {},
   "outputs": [
    {
     "data": {
      "image/png": "[encoded data removed]",
      "text/plain": [
       "<matplotlib.figure.Figure at 0x1f5d3f78048>"
      ]
     },
     "metadata": {},
     "output_type": "display_data"
    }
   ],
   "source": [
    "plt.figure(figsize = (500,4))\n",
    "plt.imshow(char, cmap='gray', aspect = 1)\n",
    "plt.show()"
   ]
  },
  {
   "cell_type": "code",
   "execution_count": 43,
   "metadata": {},
   "outputs": [],
   "source": [
    "#template = cv2.imread('templates/he.png', cv2.IMREAD_GRAYSCALE)\n",
    "#_, template = cv2.threshold(template,0,255,cv2.THRESH_BINARY+cv2.THRESH_OTSU)\n",
    "#template = 255 - template\n",
    "#template = cv2.resize(template, (ch_width, ch_height))\n",
    "#plt.figure(figsize = (500,4))\n",
    "#plt.imshow(template, cmap='gray', aspect = 1)\n",
    "#plt.show()"
   ]
  },
  {
   "cell_type": "code",
   "execution_count": 44,
   "metadata": {},
   "outputs": [
    {
     "data": {
      "text/plain": [
       "([0.5907718539237976,\n",
       "  0.5997929573059082,\n",
       "  0.704340934753418,\n",
       "  0.5382214188575745,\n",
       "  0.5440204739570618,\n",
       "  0.6756431460380554,\n",
       "  0.6794424653053284,\n",
       "  0.7218555808067322],\n",
       " 'kaf')"
      ]
     },
     "execution_count": 44,
     "metadata": {},
     "output_type": "execute_result"
    }
   ],
   "source": [
    "recognize_character(char)"
   ]
  },
  {
   "cell_type": "code",
   "execution_count": null,
   "metadata": {},
   "outputs": [],
   "source": []
  },
  {
   "cell_type": "code",
   "execution_count": null,
   "metadata": {},
   "outputs": [],
   "source": []
  },
  {
   "cell_type": "code",
   "execution_count": null,
   "metadata": {},
   "outputs": [],
   "source": []
  },
  {
   "cell_type": "code",
   "execution_count": null,
   "metadata": {},
   "outputs": [],
   "source": []
  },
  {
   "cell_type": "code",
   "execution_count": null,
   "metadata": {},
   "outputs": [],
   "source": []
  }
 ],
 "metadata": {
  "kernelspec": {
   "display_name": "Python 3",
   "language": "python",
   "name": "python3"
  },
  "language_info": {
   "codemirror_mode": {
    "name": "ipython",
    "version": 3
   },
   "file_extension": ".py",
   "mimetype": "text/x-python",
   "name": "python",
   "nbconvert_exporter": "python",
   "pygments_lexer": "ipython3",
   "version": "3.6.2"
  }
 },
 "nbformat": 4,
 "nbformat_minor": 2
}
