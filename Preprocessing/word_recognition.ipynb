{
 "cells": [
  {
   "cell_type": "code",
   "execution_count": 1,
   "metadata": {},
   "outputs": [],
   "source": [
    "import cv2\n",
    "import numpy as np\n",
    "import matplotlib.pyplot as plt\n",
    "from recognize_word import *"
   ]
  },
  {
   "cell_type": "code",
   "execution_count": 2,
   "metadata": {},
   "outputs": [],
   "source": [
    "path = 'word-images/word5.png'\n",
    "word = cv2.imread(path, cv2.IMREAD_GRAYSCALE)"
   ]
  },
  {
   "cell_type": "code",
   "execution_count": 3,
   "metadata": {},
   "outputs": [],
   "source": [
    "kernel = np.ones((5,5),np.uint8)\n",
    "_, word = cv2.threshold(word,0,255,cv2.THRESH_BINARY+cv2.THRESH_OTSU)\n",
    "word = 255 - word\n",
    "#word = cv2.morphologyEx(word, cv2.MORPH_OPEN, kernel)\n",
    "#word = cv2.erode(word,kernel,iterations = 1)\n",
    "word = 255 - word"
   ]
  },
  {
   "cell_type": "code",
   "execution_count": 4,
   "metadata": {
    "scrolled": true
   },
   "outputs": [
    {
     "data": {
      "image/png": "[encoded data removed]",
      "text/plain": [
       "<matplotlib.figure.Figure at 0x1d3bb05c630>"
      ]
     },
     "metadata": {},
     "output_type": "display_data"
    }
   ],
   "source": [
    "plt.figure(figsize = (500,4))\n",
    "plt.imshow(word, cmap='gray', aspect = 1)\n",
    "plt.show()"
   ]
  },
  {
   "cell_type": "code",
   "execution_count": 5,
   "metadata": {
    "scrolled": true
   },
   "outputs": [
    {
     "name": "stdout",
     "output_type": "stream",
     "text": [
      "10 21 26\n",
      "12 26 24\n",
      "0 1 2\n",
      "7 words,  27  possible combinations\n",
      "Alef_Nun-final_Mem-medial\n",
      "Total: 0\n",
      "Ayin_Nun-final_Mem-medial\n",
      "Total: 0\n",
      "Bet_Nun-final_Mem-medial\n",
      "Total: 0\n",
      "Alef_Zayin_Mem-medial\n",
      "Total: 0\n",
      "Ayin_Zayin_Mem-medial\n",
      "Total: 0\n",
      "Bet_Zayin_Mem-medial\n",
      "Total: 0\n",
      "Alef_Waw_Mem-medial\n",
      "Total: 0\n",
      "Ayin_Waw_Mem-medial\n",
      "Total: 0\n",
      "Bet_Waw_Mem-medial\n",
      "Total: 0\n",
      "Alef_Nun-final_Tet\n",
      "Total: 0\n",
      "Ayin_Nun-final_Tet\n",
      "Total: 0\n",
      "Bet_Nun-final_Tet\n",
      "Total: 0\n",
      "Alef_Zayin_Tet\n",
      "Total: 0\n",
      "Ayin_Zayin_Tet\n",
      "Total: 0\n",
      "Bet_Zayin_Tet\n",
      "Total: 0\n",
      "Alef_Waw_Tet\n",
      "Total: 0\n",
      "Ayin_Waw_Tet\n",
      "Total: 0\n",
      "Bet_Waw_Tet\n",
      "Total: 0\n",
      "Alef_Nun-final_Zayin\n",
      "Total: 0\n",
      "Ayin_Nun-final_Zayin\n",
      "Total: 0\n",
      "Bet_Nun-final_Zayin\n",
      "Total: 0\n",
      "Alef_Zayin_Zayin\n",
      "Total: 0\n",
      "Ayin_Zayin_Zayin\n",
      "Total: 0\n",
      "Bet_Zayin_Zayin\n",
      "Total: 0\n",
      "Alef_Waw_Zayin\n",
      "Total: 0\n",
      "Ayin_Waw_Zayin\n",
      "Total: 0\n",
      "Bet_Waw_Zayin\n",
      "Total: 0\n",
      "The best matching word is: Alef_Nun-final_Mem-medial\n"
     ]
    }
   ],
   "source": [
    "recognition = recognize_word(word)\n",
    "print(\"The best matching word is:\", recognition)"
   ]
  },
  {
   "cell_type": "code",
   "execution_count": 6,
   "metadata": {},
   "outputs": [],
   "source": [
    "n_labels, labels, stats, centroids = cv2.connectedComponentsWithStats(word, 8, cv2.CV_32S)"
   ]
  },
  {
   "cell_type": "code",
   "execution_count": 7,
   "metadata": {},
   "outputs": [
    {
     "data": {
      "text/plain": [
       "2"
      ]
     },
     "execution_count": 7,
     "metadata": {},
     "output_type": "execute_result"
    }
   ],
   "source": [
    "n_labels"
   ]
  },
  {
   "cell_type": "code",
   "execution_count": 8,
   "metadata": {},
   "outputs": [
    {
     "data": {
      "text/plain": [
       "array([[   3,    0,  119,   65, 3039]], dtype=int32)"
      ]
     },
     "execution_count": 8,
     "metadata": {},
     "output_type": "execute_result"
    }
   ],
   "source": [
    "stats = stats[stats[:,0].argsort()]\n",
    "stats = stats[1:]\n",
    "stats"
   ]
  },
  {
   "cell_type": "code",
   "execution_count": 9,
   "metadata": {},
   "outputs": [
    {
     "ename": "IndexError",
     "evalue": "index 1 is out of bounds for axis 0 with size 1",
     "output_type": "error",
     "traceback": [
      "\u001b[1;31m---------------------------------------------------------------------------\u001b[0m",
      "\u001b[1;31mIndexError\u001b[0m                                Traceback (most recent call last)",
      "\u001b[1;32m<ipython-input-9-4109d41fda0e>\u001b[0m in \u001b[0;36m<module>\u001b[1;34m()\u001b[0m\n\u001b[0;32m      1\u001b[0m \u001b[0midx\u001b[0m \u001b[1;33m=\u001b[0m \u001b[1;36m1\u001b[0m\u001b[1;33m\u001b[0m\u001b[0m\n\u001b[1;32m----> 2\u001b[1;33m \u001b[0mchar\u001b[0m \u001b[1;33m=\u001b[0m \u001b[0mword\u001b[0m\u001b[1;33m[\u001b[0m\u001b[0mstats\u001b[0m\u001b[1;33m[\u001b[0m\u001b[0midx\u001b[0m\u001b[1;33m]\u001b[0m\u001b[1;33m[\u001b[0m\u001b[1;36m1\u001b[0m\u001b[1;33m]\u001b[0m\u001b[1;33m:\u001b[0m\u001b[0mstats\u001b[0m\u001b[1;33m[\u001b[0m\u001b[0midx\u001b[0m\u001b[1;33m]\u001b[0m\u001b[1;33m[\u001b[0m\u001b[1;36m1\u001b[0m\u001b[1;33m]\u001b[0m\u001b[1;33m+\u001b[0m\u001b[0mstats\u001b[0m\u001b[1;33m[\u001b[0m\u001b[0midx\u001b[0m\u001b[1;33m]\u001b[0m\u001b[1;33m[\u001b[0m\u001b[1;36m3\u001b[0m\u001b[1;33m]\u001b[0m\u001b[1;33m,\u001b[0m \u001b[0mstats\u001b[0m\u001b[1;33m[\u001b[0m\u001b[0midx\u001b[0m\u001b[1;33m]\u001b[0m\u001b[1;33m[\u001b[0m\u001b[1;36m0\u001b[0m\u001b[1;33m]\u001b[0m\u001b[1;33m:\u001b[0m\u001b[0mstats\u001b[0m\u001b[1;33m[\u001b[0m\u001b[0midx\u001b[0m\u001b[1;33m]\u001b[0m\u001b[1;33m[\u001b[0m\u001b[1;36m0\u001b[0m\u001b[1;33m]\u001b[0m\u001b[1;33m+\u001b[0m\u001b[0mstats\u001b[0m\u001b[1;33m[\u001b[0m\u001b[0midx\u001b[0m\u001b[1;33m]\u001b[0m\u001b[1;33m[\u001b[0m\u001b[1;36m2\u001b[0m\u001b[1;33m]\u001b[0m\u001b[1;33m]\u001b[0m\u001b[1;33m\u001b[0m\u001b[0m\n\u001b[0m\u001b[0;32m      3\u001b[0m \u001b[0mch_height\u001b[0m\u001b[1;33m,\u001b[0m \u001b[0mch_width\u001b[0m \u001b[1;33m=\u001b[0m \u001b[0mchar\u001b[0m\u001b[1;33m.\u001b[0m\u001b[0mshape\u001b[0m\u001b[1;33m\u001b[0m\u001b[0m\n\u001b[0;32m      4\u001b[0m \u001b[1;31m#padding = np.zeros((char.shape[0], char.shape[1]))\u001b[0m\u001b[1;33m\u001b[0m\u001b[1;33m\u001b[0m\u001b[0m\n\u001b[0;32m      5\u001b[0m \u001b[1;31m#print(padding.shape)\u001b[0m\u001b[1;33m\u001b[0m\u001b[1;33m\u001b[0m\u001b[0m\n",
      "\u001b[1;31mIndexError\u001b[0m: index 1 is out of bounds for axis 0 with size 1"
     ]
    }
   ],
   "source": [
    "idx = 1\n",
    "char = word[stats[idx][1]:stats[idx][1]+stats[idx][3], stats[idx][0]:stats[idx][0]+stats[idx][2]]\n",
    "ch_height, ch_width = char.shape\n",
    "#padding = np.zeros((char.shape[0], char.shape[1]))\n",
    "#print(padding.shape)\n",
    "#print(char.shape)\n",
    "#char = np.concatenate((padding,char), axis = 1)\n",
    "#char = np.concatenate((char,padding), axis = 1)\n",
    "#char = char.astype(np.uint8)"
   ]
  },
  {
   "cell_type": "code",
   "execution_count": null,
   "metadata": {
    "scrolled": true
   },
   "outputs": [],
   "source": [
    "plt.figure(figsize = (500,4))\n",
    "plt.imshow(char, cmap='gray', aspect = 1)\n",
    "plt.show()"
   ]
  },
  {
   "cell_type": "code",
   "execution_count": null,
   "metadata": {},
   "outputs": [],
   "source": [
    "#template = cv2.imread('templates/he.png', cv2.IMREAD_GRAYSCALE)\n",
    "#_, template = cv2.threshold(template,0,255,cv2.THRESH_BINARY+cv2.THRESH_OTSU)\n",
    "#template = 255 - template\n",
    "#template = cv2.resize(template, (ch_width, ch_height))\n",
    "#plt.figure(figsize = (500,4))\n",
    "#plt.imshow(template, cmap='gray', aspect = 1)\n",
    "#plt.show()"
   ]
  },
  {
   "cell_type": "code",
   "execution_count": null,
   "metadata": {},
   "outputs": [],
   "source": [
    "#recognize_character(char)"
   ]
  },
  {
   "cell_type": "code",
   "execution_count": null,
   "metadata": {},
   "outputs": [],
   "source": []
  },
  {
   "cell_type": "code",
   "execution_count": null,
   "metadata": {},
   "outputs": [],
   "source": []
  },
  {
   "cell_type": "code",
   "execution_count": null,
   "metadata": {},
   "outputs": [],
   "source": []
  },
  {
   "cell_type": "code",
   "execution_count": null,
   "metadata": {},
   "outputs": [],
   "source": []
  },
  {
   "cell_type": "code",
   "execution_count": null,
   "metadata": {},
   "outputs": [],
   "source": []
  }
 ],
 "metadata": {
  "kernelspec": {
   "display_name": "Python 3",
   "language": "python",
   "name": "python3"
  },
  "language_info": {
   "codemirror_mode": {
    "name": "ipython",
    "version": 3
   },
   "file_extension": ".py",
   "mimetype": "text/x-python",
   "name": "python",
   "nbconvert_exporter": "python",
   "pygments_lexer": "ipython3",
   "version": "3.6.2"
  }
 },
 "nbformat": 4,
 "nbformat_minor": 2
}
