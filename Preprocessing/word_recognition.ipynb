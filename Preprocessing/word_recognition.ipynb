{
 "cells": [
  {
   "cell_type": "code",
   "execution_count": 14,
   "metadata": {},
   "outputs": [],
   "source": [
    "import cv2\n",
    "import numpy as np\n",
    "import matplotlib.pyplot as plt\n",
    "from recognize_word import *"
   ]
  },
  {
   "cell_type": "code",
   "execution_count": 15,
   "metadata": {},
   "outputs": [],
   "source": [
    "path = 'word-images/word2.png'\n",
    "word = cv2.imread(path, cv2.IMREAD_GRAYSCALE)"
   ]
  },
  {
   "cell_type": "code",
   "execution_count": 16,
   "metadata": {},
   "outputs": [],
   "source": [
    "kernel = np.ones((5,5),np.uint8)\n",
    "#_, word = cv2.threshold(word,0,255,cv2.THRESH_BINARY+cv2.THRESH_OTSU)\n",
    "#word = 255 - word\n",
    "#word = cv2.erode(word,kernel,iterations = 1)\n",
    "\n"
   ]
  },
  {
   "cell_type": "code",
   "execution_count": 17,
   "metadata": {},
   "outputs": [
    {
     "data": {
      "image/png": "[encoded data removed]",
      "text/plain": [
       "<matplotlib.figure.Figure at 0x26a54823b38>"
      ]
     },
     "metadata": {},
     "output_type": "display_data"
    }
   ],
   "source": [
    "plt.figure(figsize = (500,4))\n",
    "plt.imshow(word, cmap='gray', aspect = 1)\n",
    "plt.show()"
   ]
  },
  {
   "cell_type": "code",
   "execution_count": 18,
   "metadata": {
    "scrolled": true
   },
   "outputs": [
    {
     "name": "stdout",
     "output_type": "stream",
     "text": [
      "Ayin_Zayin_Samekh_Het_Mem-medial\n",
      "Word does not exist in ngrams file\n"
     ]
    }
   ],
   "source": [
    "recognize_word(word)"
   ]
  },
  {
   "cell_type": "code",
   "execution_count": 6,
   "metadata": {},
   "outputs": [],
   "source": [
    "n_labels, labels, stats, centroids = cv2.connectedComponentsWithStats(word, 8, cv2.CV_32S)"
   ]
  },
  {
   "cell_type": "code",
   "execution_count": 7,
   "metadata": {},
   "outputs": [
    {
     "data": {
      "text/plain": [
       "34"
      ]
     },
     "execution_count": 7,
     "metadata": {},
     "output_type": "execute_result"
    }
   ],
   "source": [
    "n_labels"
   ]
  },
  {
   "cell_type": "code",
   "execution_count": 8,
   "metadata": {},
   "outputs": [
    {
     "data": {
      "text/plain": [
       "array([[   3,    4,  196,   49, 3000],\n",
       "       [   9,   21,    2,    2,    3],\n",
       "       [  12,   20,    1,    1,    1],\n",
       "       [  14,   11,    2,    2,    2],\n",
       "       [  14,   39,    2,    3,    3],\n",
       "       [  16,   41,    1,    1,    1],\n",
       "       [  33,   10,    1,    1,    1],\n",
       "       [  43,   44,    1,    1,    1],\n",
       "       [  54,   40,    2,    1,    2],\n",
       "       [  69,   18,    4,    4,    7],\n",
       "       [  70,   39,    1,    1,    1],\n",
       "       [  72,   39,    2,    2,    4],\n",
       "       [  75,   39,    1,    1,    1],\n",
       "       [  76,   30,    1,    1,    1],\n",
       "       [  91,   42,    1,    1,    1],\n",
       "       [  92,   22,    1,    1,    1],\n",
       "       [  93,   20,    1,    1,    1],\n",
       "       [  93,   34,    1,    1,    1],\n",
       "       [ 108,   14,    1,    1,    1],\n",
       "       [ 113,   33,    1,    1,    1],\n",
       "       [ 123,   21,    2,    2,    2],\n",
       "       [ 123,   13,    3,    2,    3],\n",
       "       [ 123,   12,    1,    1,    1],\n",
       "       [ 124,   16,    1,    1,    1],\n",
       "       [ 125,   11,    1,    1,    1],\n",
       "       [ 127,   23,    1,    1,    1],\n",
       "       [ 130,   13,    2,    1,    2],\n",
       "       [ 137,   37,    1,    1,    1],\n",
       "       [ 161,   16,    1,    1,    1],\n",
       "       [ 173,   35,    4,    3,    4],\n",
       "       [ 177,   35,    2,    2,    2],\n",
       "       [ 189,   18,    3,    3,    4],\n",
       "       [ 192,   15,    1,    1,    1]], dtype=int32)"
      ]
     },
     "execution_count": 8,
     "metadata": {},
     "output_type": "execute_result"
    }
   ],
   "source": [
    "stats = stats[stats[:,0].argsort()]\n",
    "stats = stats[1:]\n",
    "stats"
   ]
  },
  {
   "cell_type": "code",
   "execution_count": 9,
   "metadata": {},
   "outputs": [],
   "source": [
    "idx = 1\n",
    "char = word[stats[idx][1]:stats[idx][1]+stats[idx][3], stats[idx][0]:stats[idx][0]+stats[idx][2]]\n",
    "ch_height, ch_width = char.shape\n",
    "#padding = np.zeros((char.shape[0], char.shape[1]))\n",
    "#print(padding.shape)\n",
    "#print(char.shape)\n",
    "#char = np.concatenate((padding,char), axis = 1)\n",
    "#char = np.concatenate((char,padding), axis = 1)\n",
    "#char = char.astype(np.uint8)"
   ]
  },
  {
   "cell_type": "code",
   "execution_count": 10,
   "metadata": {
    "scrolled": true
   },
   "outputs": [
    {
     "data": {
      "image/png": "[encoded data removed]",
      "text/plain": [
       "<matplotlib.figure.Figure at 0x26a54850828>"
      ]
     },
     "metadata": {},
     "output_type": "display_data"
    }
   ],
   "source": [
    "plt.figure(figsize = (500,4))\n",
    "plt.imshow(char, cmap='gray', aspect = 1)\n",
    "plt.show()"
   ]
  },
  {
   "cell_type": "code",
   "execution_count": 11,
   "metadata": {},
   "outputs": [],
   "source": [
    "#template = cv2.imread('templates/he.png', cv2.IMREAD_GRAYSCALE)\n",
    "#_, template = cv2.threshold(template,0,255,cv2.THRESH_BINARY+cv2.THRESH_OTSU)\n",
    "#template = 255 - template\n",
    "#template = cv2.resize(template, (ch_width, ch_height))\n",
    "#plt.figure(figsize = (500,4))\n",
    "#plt.imshow(template, cmap='gray', aspect = 1)\n",
    "#plt.show()"
   ]
  },
  {
   "cell_type": "code",
   "execution_count": 12,
   "metadata": {},
   "outputs": [],
   "source": [
    "#recognize_character(char)"
   ]
  },
  {
   "cell_type": "code",
   "execution_count": null,
   "metadata": {},
   "outputs": [],
   "source": []
  },
  {
   "cell_type": "code",
   "execution_count": null,
   "metadata": {},
   "outputs": [],
   "source": []
  },
  {
   "cell_type": "code",
   "execution_count": null,
   "metadata": {},
   "outputs": [],
   "source": []
  },
  {
   "cell_type": "code",
   "execution_count": null,
   "metadata": {},
   "outputs": [],
   "source": []
  },
  {
   "cell_type": "code",
   "execution_count": null,
   "metadata": {},
   "outputs": [],
   "source": []
  }
 ],
 "metadata": {
  "kernelspec": {
   "display_name": "Python 3",
   "language": "python",
   "name": "python3"
  },
  "language_info": {
   "codemirror_mode": {
    "name": "ipython",
    "version": 3
   },
   "file_extension": ".py",
   "mimetype": "text/x-python",
   "name": "python",
   "nbconvert_exporter": "python",
   "pygments_lexer": "ipython3",
   "version": "3.6.2"
  }
 },
 "nbformat": 4,
 "nbformat_minor": 2
}
