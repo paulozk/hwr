{
 "cells": [
  {
   "cell_type": "code",
   "execution_count": 18,
   "metadata": {},
   "outputs": [],
   "source": [
    "import cv2\n",
    "import numpy as np\n",
    "import matplotlib.pyplot as plt\n",
    "from recognize_word import *"
   ]
  },
  {
   "cell_type": "code",
   "execution_count": 19,
   "metadata": {},
   "outputs": [],
   "source": [
    "path = 'word-images/word5.png'\n",
    "word = cv2.imread(path, cv2.IMREAD_GRAYSCALE)"
   ]
  },
  {
   "cell_type": "code",
   "execution_count": 20,
   "metadata": {},
   "outputs": [],
   "source": [
    "kernel = np.ones((5,5),np.uint8)\n",
    "_, word = cv2.threshold(word,0,255,cv2.THRESH_BINARY+cv2.THRESH_OTSU)\n",
    "word = 255 - word\n",
    "word = cv2.erode(word,kernel,iterations = 1)\n",
    "word = 255 - word\n"
   ]
  },
  {
   "cell_type": "code",
   "execution_count": 21,
   "metadata": {},
   "outputs": [
    {
     "data": {
      "image/png": "[encoded data removed]",
      "text/plain": [
       "<matplotlib.figure.Figure at 0x13f10d81630>"
      ]
     },
     "metadata": {},
     "output_type": "display_data"
    }
   ],
   "source": [
    "plt.figure(figsize = (500,4))\n",
    "plt.imshow(word, cmap='gray', aspect = 1)\n",
    "plt.show()"
   ]
  },
  {
   "cell_type": "code",
   "execution_count": 17,
   "metadata": {
    "scrolled": true
   },
   "outputs": [
    {
     "name": "stdout",
     "output_type": "stream",
     "text": [
      "([10, 21, 26], [12, 26, 24], [0, 1, 2])\n",
      "27\n",
      "Word does not exist in ngrams file\n",
      "Word does not exist in ngrams file\n",
      "Word does not exist in ngrams file\n",
      "Word does not exist in ngrams file\n",
      "Word does not exist in ngrams file\n",
      "Word does not exist in ngrams file\n",
      "Word does not exist in ngrams file\n",
      "Word does not exist in ngrams file\n",
      "Word does not exist in ngrams file\n",
      "Word does not exist in ngrams file\n",
      "Word does not exist in ngrams file\n",
      "Word does not exist in ngrams file\n",
      "Word does not exist in ngrams file\n",
      "Word does not exist in ngrams file\n",
      "Word does not exist in ngrams file\n",
      "3\n",
      "Alef_Waw_Tet\n",
      "Word does not exist in ngrams file\n",
      "Word does not exist in ngrams file\n",
      "Word does not exist in ngrams file\n",
      "Word does not exist in ngrams file\n",
      "Word does not exist in ngrams file\n",
      "Word does not exist in ngrams file\n",
      "Word does not exist in ngrams file\n",
      "Word does not exist in ngrams file\n",
      "Word does not exist in ngrams file\n",
      "14\n",
      "Ayin_Waw_Zayin\n",
      "2\n",
      "Bet_Waw_Zayin\n",
      "Ayin_Waw_Zayin\n"
     ]
    }
   ],
   "source": [
    "recognition = recognize_word(word)\n",
    "print(recognition)"
   ]
  },
  {
   "cell_type": "code",
   "execution_count": 6,
   "metadata": {},
   "outputs": [],
   "source": [
    "n_labels, labels, stats, centroids = cv2.connectedComponentsWithStats(word, 8, cv2.CV_32S)"
   ]
  },
  {
   "cell_type": "code",
   "execution_count": 7,
   "metadata": {},
   "outputs": [
    {
     "data": {
      "text/plain": [
       "26"
      ]
     },
     "execution_count": 7,
     "metadata": {},
     "output_type": "execute_result"
    }
   ],
   "source": [
    "n_labels"
   ]
  },
  {
   "cell_type": "code",
   "execution_count": 8,
   "metadata": {},
   "outputs": [
    {
     "data": {
      "text/plain": [
       "array([[   3,    0,  130,   47, 2117],\n",
       "       [   9,   12,    1,    1,    1],\n",
       "       [  16,   23,    3,    3,    4],\n",
       "       [  37,    8,    2,    1,    2],\n",
       "       [  41,   35,    1,    1,    1],\n",
       "       [  50,    7,    3,    1,    3],\n",
       "       [  51,    5,    1,    1,    1],\n",
       "       [  54,    5,    1,    3,    3],\n",
       "       [  56,   44,    1,    1,    1],\n",
       "       [  57,   10,    1,    1,    1],\n",
       "       [  61,   18,    4,    4,    6],\n",
       "       [  63,   37,    1,    2,    2],\n",
       "       [  65,   37,    2,    2,    4],\n",
       "       [  73,   31,    1,    1,    1],\n",
       "       [  79,   13,    1,    1,    1],\n",
       "       [  82,   13,    3,    1,    3],\n",
       "       [ 106,   26,    1,    1,    1],\n",
       "       [ 107,   23,    1,    1,    1],\n",
       "       [ 107,   34,    1,    1,    1],\n",
       "       [ 108,   16,    1,    1,    1],\n",
       "       [ 108,   26,    1,    1,    1],\n",
       "       [ 113,   11,    1,    1,    1],\n",
       "       [ 124,   38,    1,    1,    1],\n",
       "       [ 124,   40,    1,    1,    1],\n",
       "       [ 125,   42,    1,    1,    1]], dtype=int32)"
      ]
     },
     "execution_count": 8,
     "metadata": {},
     "output_type": "execute_result"
    }
   ],
   "source": [
    "stats = stats[stats[:,0].argsort()]\n",
    "stats = stats[1:]\n",
    "stats"
   ]
  },
  {
   "cell_type": "code",
   "execution_count": 9,
   "metadata": {},
   "outputs": [],
   "source": [
    "idx = 1\n",
    "char = word[stats[idx][1]:stats[idx][1]+stats[idx][3], stats[idx][0]:stats[idx][0]+stats[idx][2]]\n",
    "ch_height, ch_width = char.shape\n",
    "#padding = np.zeros((char.shape[0], char.shape[1]))\n",
    "#print(padding.shape)\n",
    "#print(char.shape)\n",
    "#char = np.concatenate((padding,char), axis = 1)\n",
    "#char = np.concatenate((char,padding), axis = 1)\n",
    "#char = char.astype(np.uint8)"
   ]
  },
  {
   "cell_type": "code",
   "execution_count": 10,
   "metadata": {
    "scrolled": true
   },
   "outputs": [
    {
     "data": {
      "image/png": "[encoded data removed]",
      "text/plain": [
       "<matplotlib.figure.Figure at 0x13f1091e2e8>"
      ]
     },
     "metadata": {},
     "output_type": "display_data"
    }
   ],
   "source": [
    "plt.figure(figsize = (500,4))\n",
    "plt.imshow(char, cmap='gray', aspect = 1)\n",
    "plt.show()"
   ]
  },
  {
   "cell_type": "code",
   "execution_count": 11,
   "metadata": {},
   "outputs": [],
   "source": [
    "#template = cv2.imread('templates/he.png', cv2.IMREAD_GRAYSCALE)\n",
    "#_, template = cv2.threshold(template,0,255,cv2.THRESH_BINARY+cv2.THRESH_OTSU)\n",
    "#template = 255 - template\n",
    "#template = cv2.resize(template, (ch_width, ch_height))\n",
    "#plt.figure(figsize = (500,4))\n",
    "#plt.imshow(template, cmap='gray', aspect = 1)\n",
    "#plt.show()"
   ]
  },
  {
   "cell_type": "code",
   "execution_count": 12,
   "metadata": {},
   "outputs": [],
   "source": [
    "#recognize_character(char)"
   ]
  },
  {
   "cell_type": "code",
   "execution_count": null,
   "metadata": {},
   "outputs": [],
   "source": []
  },
  {
   "cell_type": "code",
   "execution_count": null,
   "metadata": {},
   "outputs": [],
   "source": []
  },
  {
   "cell_type": "code",
   "execution_count": null,
   "metadata": {},
   "outputs": [],
   "source": []
  },
  {
   "cell_type": "code",
   "execution_count": null,
   "metadata": {},
   "outputs": [],
   "source": []
  },
  {
   "cell_type": "code",
   "execution_count": null,
   "metadata": {},
   "outputs": [],
   "source": []
  }
 ],
 "metadata": {
  "kernelspec": {
   "display_name": "Python 3",
   "language": "python",
   "name": "python3"
  },
  "language_info": {
   "codemirror_mode": {
    "name": "ipython",
    "version": 3
   },
   "file_extension": ".py",
   "mimetype": "text/x-python",
   "name": "python",
   "nbconvert_exporter": "python",
   "pygments_lexer": "ipython3",
   "version": "3.6.2"
  }
 },
 "nbformat": 4,
 "nbformat_minor": 2
}
